{
 "cells": [
  {
   "cell_type": "code",
   "execution_count": null,
   "metadata": {
    "collapsed": false
   },
   "outputs": [],
   "source": [
    "'''\n",
    "Trains an FNN on the IMDB sentiment classification task.\n",
    "'''\n",
    "from __future__ import print_function\n",
    "from keras.preprocessing import sequence\n",
    "from keras.models import Sequential\n",
    "from keras.layers import Dense, Embedding\n",
    "from keras.layers import Flatten\n",
    "from keras.layers import Dropout\n",
    "from keras.datasets import imdb\n",
    "from keras import backend as K\n",
    "from keras import regularizers\n",
    "import six"
   ]
  },
  {
   "cell_type": "code",
   "execution_count": null,
   "metadata": {
    "collapsed": true
   },
   "outputs": [],
   "source": [
    "'''\n",
    "Settings\n",
    "'''\n",
    "# maximum size of vocabulary\n",
    "max_vocabulary = 20000\n",
    "# maximum length of each document\n",
    "maxlen = 100\n",
    "# size of word embeddings\n",
    "embedding_size = 32\n",
    "# size of each mini-batch\n",
    "batch_size = 16\n",
    "# epochs\n",
    "epochs = 20"
   ]
  },
  {
   "cell_type": "code",
   "execution_count": null,
   "metadata": {
    "collapsed": false
   },
   "outputs": [],
   "source": [
    "print('Loading data...')\n",
    "(x_train, y_train), (x_test, y_test) = imdb.load_data(num_words=max_vocabulary,skip_top=10)\n",
    "imdb_w2id = imdb.get_word_index()\n",
    "imdb_id2w = dict([(i,w) for (w,i) in six.iteritems(imdb_w2id)])\n",
    "print(len(x_train), 'training documents')\n",
    "print(len(x_test), 'test documents')\n",
    "print('Example data:')\n",
    "print('=====Word=====')\n",
    "print(' '.join(imdb_id2w[w] for w in x_train[5]))\n",
    "print('======ID======')\n",
    "print(x_train[5])\n",
    "print('=====Label====')\n",
    "print(y_train[5])"
   ]
  },
  {
   "cell_type": "code",
   "execution_count": null,
   "metadata": {
    "collapsed": false
   },
   "outputs": [],
   "source": [
    "print('Padding documents (samples x length)')\n",
    "x_train = sequence.pad_sequences(x_train, maxlen=maxlen)\n",
    "x_test = sequence.pad_sequences(x_test, maxlen=maxlen)\n",
    "print('Example padded data:')\n",
    "print('=====Word=====')\n",
    "print(' '.join(imdb_id2w.get(w,'-') for w in x_train[5]))\n",
    "print('======ID======')\n",
    "print(x_train[5])"
   ]
  },
  {
   "cell_type": "code",
   "execution_count": null,
   "metadata": {
    "collapsed": false
   },
   "outputs": [],
   "source": [
    "print('x_train shape: {} documents x {} words'.format(x_train.shape[0], x_train.shape[1]))\n",
    "print('y_train shape: {} labels'.format(y_train.shape[0]))\n",
    "print('x_test shape: {} documents x {} words'.format(x_test.shape[0], x_test.shape[1]))\n",
    "print('y_test shape: {} labels'.format(y_test.shape[0]))"
   ]
  },
  {
   "cell_type": "code",
   "execution_count": null,
   "metadata": {
    "collapsed": false
   },
   "outputs": [],
   "source": [
    "K.clear_session()\n",
    "print('Building model...')\n",
    "model = Sequential()\n",
    "model.add(Embedding(max_vocabulary, embedding_size, input_shape=(maxlen,)))\n",
    "model.add(Flatten())\n",
    "model.add(Dropout(0.5))\n",
    "model.add(Dense(4, kernel_regularizer=regularizers.l2(0.01)))\n",
    "model.add(Dense(1, activation='sigmoid'))\n",
    "print(model.summary())\n",
    "\n",
    "model.compile(loss='binary_crossentropy',\n",
    "              optimizer='rmsprop',\n",
    "              metrics=['accuracy'])\n",
    "\n",
    "print('Start training...')\n",
    "model.fit(x_train, y_train,\n",
    "          batch_size=batch_size,\n",
    "          epochs=epochs,\n",
    "          validation_data=(x_test, y_test))"
   ]
  },
  {
   "cell_type": "code",
   "execution_count": null,
   "metadata": {
    "collapsed": false,
    "scrolled": true
   },
   "outputs": [],
   "source": [
    "print('Start testing...')\n",
    "score, acc = model.evaluate(x_test, y_test, verbose=2,\n",
    "                            batch_size=batch_size)\n",
    "print('Test score:', score)\n",
    "print('Test accuracy:', acc)\n",
    "\n",
    "K.clear_session()"
   ]
  }
 ],
 "metadata": {
  "celltoolbar": "Raw Cell Format",
  "kernelspec": {
   "display_name": "Python 2",
   "language": "python",
   "name": "python2"
  },
  "language_info": {
   "codemirror_mode": {
    "name": "ipython",
    "version": 2
   },
   "file_extension": ".py",
   "mimetype": "text/x-python",
   "name": "python",
   "nbconvert_exporter": "python",
   "pygments_lexer": "ipython2",
   "version": "2.7.6"
  }
 },
 "nbformat": 4,
 "nbformat_minor": 1
}
